{
  "nbformat": 4,
  "nbformat_minor": 0,
  "metadata": {
    "colab": {
      "name": "Untitled2.ipynb",
      "provenance": [],
      "authorship_tag": "ABX9TyP35RMUMGv1uKvjVI0vof63",
      "include_colab_link": true
    },
    "kernelspec": {
      "name": "python3",
      "display_name": "Python 3"
    }
  },
  "cells": [
    {
      "cell_type": "markdown",
      "metadata": {
        "id": "view-in-github",
        "colab_type": "text"
      },
      "source": [
        "<a href=\"https://colab.research.google.com/github/hatahataDev/SDGsproject/blob/master/liner_algebra.ipynb\" target=\"_parent\"><img src=\"https://colab.research.google.com/assets/colab-badge.svg\" alt=\"Open In Colab\"/></a>"
      ]
    },
    {
      "cell_type": "code",
      "metadata": {
        "id": "hix1mJAe2r0h",
        "colab_type": "code",
        "colab": {}
      },
      "source": [
        "#V2\n",
        "def sort_Singular(value,vector): #SVDに必要な関数（特異値のソートと0を除外）\n",
        " a_2d=np.append([value],vector,axis=0)\n",
        "  j=0\n",
        "  for i,k in enumerate(a_2d[0]):\n",
        "    if k==0:\n",
        "      a_2d=np.delete(a_2d, [i-j], axis=1)\n",
        "      j+=1\n",
        "\n",
        "  a_2d_sort_row_num_inverse = a_2d[:, np.argsort(a_2d[0])[::-1]]\n",
        "  a_1,a_2=np.split(a_2d_sort_row_num_inverse, [1])\n",
        "  return a_1[0],a_2\n",
        "\n",
        "def return_SVD(U,Singular_Vector,delta,V,test,kyeward): #任意のベクトルを返却する関数\n",
        "  from scipy import linalg\n",
        "  import numpy as np  \n",
        "  keywardbox={\"U\":U,\"V\":V,\"delta\":linalg.inv(delta),\"delta_inv\":delta}\n",
        "  return_box=[]\n",
        "  if test==1:\n",
        "    if kyeward==():\n",
        "      return U,delta,V\n",
        "    else:\n",
        "      if len(kyeward)==1:\n",
        "        return keywardbox[kyeward[0]]\n",
        "      else:\n",
        "        for i in kyeward:\n",
        "          return_box.append(keywardbox[i])\n",
        "        return tuple(return_box)\n",
        "  else:\n",
        "    if kyeward==():\n",
        "      return np.round(U,decimals=2),np.round(Singular_Vector,decimals=2),np.round(V,decimals=2) #テスト使用\n",
        "    else:\n",
        "      if len(kyeward)==1:\n",
        "        return keywardbox[kyeward[0]]\n",
        "      else:\n",
        "        for i in kyeward:\n",
        "          return_box.append(np.round(keywardbox[i],decimals=2))\n",
        "        return tuple(return_box)\n",
        "\n",
        "def SVD(A,*args,test=0): #特異値分解をする関数\n",
        "  from scipy import linalg\n",
        "  import numpy as np\n",
        "  M = A.shape[0]\n",
        "  N = A.shape[1]\n",
        "  A_H=np.conjugate(A.T)#エルミート転置\n",
        "\n",
        "  if M>=N: \n",
        "    AdotA=np.dot(A_H,A)\n",
        "    eigenvalue,V=linalg.eig(AdotA)\n",
        "    eigenvalue,V=sort_Singular(eigenvalue,V) #特異値を降順番にソート\n",
        "    Singular_Vector=np.sqrt(eigenvalue)\n",
        "    delta=linalg.inv(np.diag(Singular_Vector))\n",
        "    U=np.dot(np.dot(A,V),delta)\n",
        "    return return_SVD(U,Singular_Vector,delta,V,test,args)\n",
        "\n",
        "  else:\n",
        "    AdotA=np.dot(A,A_H)\n",
        "    eigenvalue,U=linalg.eig(AdotA)\n",
        "    eigenvalue,U=sort_Singular(eigenvalue,U) #特異値を降順番にソート\n",
        "    Singular_Vector=np.sqrt(eigenvalue)\n",
        "    delta=linalg.inv(np.diag(Singular_Vector))\n",
        "    V=np.dot(np.dot(A_H,U),delta)\n",
        "    return return_SVD(U,Singular_Vector,delta,V,test,args)\n",
        "\n",
        "def pseudo_inverse(A,test=0): #ムーア・ペンローズの式を求める関数\n",
        "  U,delta_inv,V=SVD(A,\"U\",\"delta_inv\",\"V\",test=1) \n",
        "  U_H=np.conjugate(U.T) #Uのエルミート転置\n",
        "  inverse=np.dot(V,np.dot(delta_inv,U_H)) #VΔ^(-1)U^(H)\n",
        "  if test==1: return inverse\n",
        "  else: return np.round(inverse,decimals=2)\n",
        "\n",
        "def vector_projection(A,test=0): #正射影行列を求める関数\n",
        "  U=SVD(A,\"U\",test=1)\n",
        "  U_H=np.conjugate(U.T)\n",
        "  if test==1: return np.dot(U,U_H)\n",
        "  else: return np.round(np.dot(U,U_H),decimals=2)\n",
        "\n",
        "def Solution_check(A,B): #係数ベクトルＡ、右辺のＢに対して解をもつか判定する関数\n",
        "  boolean=np.all(np.round(np.dot(vector_projection(A,1),B),decimals=2)==np.round(B,decimals=2))\n",
        "  return boolean\n",
        "\n",
        "def Solution_serch(A,B,test=0):　#最良近似を求める関数\n",
        "  if Solution_check(A,B): flag=1\n",
        "  else: flag=0\n",
        "\n",
        "  if test==1:return np.dot(pseudo_inverse(A,1),B)\n",
        "  return flag,np.round(np.dot(pseudo_inverse(A,1),B),decimals=2)"
      ],
      "execution_count": 0,
      "outputs": []
    },
    {
      "cell_type": "code",
      "metadata": {
        "id": "bNP1yGcjx2M0",
        "colab_type": "code",
        "colab": {}
      },
      "source": [
        ""
      ],
      "execution_count": 0,
      "outputs": []
    }
  ]
}